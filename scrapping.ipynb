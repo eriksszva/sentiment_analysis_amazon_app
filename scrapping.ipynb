{
 "cells": [
  {
   "cell_type": "code",
   "execution_count": 4,
   "metadata": {},
   "outputs": [],
   "source": [
    "from google_play_scraper import app, search, reviews_all, Sort, reviews\n",
    "import pandas as pd"
   ]
  },
  {
   "cell_type": "code",
   "execution_count": 3,
   "metadata": {},
   "outputs": [
    {
     "name": "stdout",
     "output_type": "stream",
     "text": [
      "Package Name: com.amazon.mShop.android.shopping\n",
      "Package Name: [{'appId': 'com.amazon.mShop.android.shopping', 'icon': 'https://play-lh.googleusercontent.com/1Ns1T_qN0pEXMvZeZ5lQNAR8z4blP7ce2J2Nn5doXvt2T1g_W7VMORdWHaApkOooupI', 'screenshots': ['https://play-lh.googleusercontent.com/Bt95BAHb_F8Wdn_Xt1z7sBjUXAD-UIYX_mqAhhRFIv5PobR3vpteXfzNC0ZYiVJPSgM', 'https://play-lh.googleusercontent.com/q-3YfdVSQGgEJ9gj8KCnS17bu4fJmDZxkNzTeaR7bQg2p0lwHFSmBlYCUlW84g32A6w', 'https://play-lh.googleusercontent.com/Uk1pdFdhTA8cw-4R-dLHwb5tnSUfUSMBu0ivlwxDNi1Tc5O7cRvAN8cAunQO-z0JAo4', 'https://play-lh.googleusercontent.com/pClcXrtHGO9LyaiQ2KBDBVRFiMZbckOh-q97iIFSZ8gWYQUkmrGB5QmLEA3B8thx4y4', 'https://play-lh.googleusercontent.com/XpbO_WVyQIytnLrM6xFsUemtn4ugulNDjuxT1XY-owhmm8owiRUvWIBMtIB-9d6U-ehx', 'https://play-lh.googleusercontent.com/V-UwjmRzzAsbr7qA4rxTsogdsT7dnm53YKRvkkhka2BrVqZNqBB0xBgJpYtWCfTN0CDN', 'https://play-lh.googleusercontent.com/j802rZ_tp9DZ1bnIxV9C4L8qnQ_7IIvNy4NztUO8hFuo8tifX6_HeNnR5Jq4K8ZyNQ'], 'title': 'Amazon Shopping', 'score': 4.444416, 'genre': 'Shopping', 'price': 0, 'free': True, 'currency': 'USD', 'video': 'https://www.youtube.com/embed/0cXihLp1aIQ?ps=play&vq=large&rel=0&autohide=1&showinfo=0', 'videoImage': 'https://play-lh.googleusercontent.com/G7jAks-PRl4d7IkL-s3Ir44nGyPq0Yh872N5UMwZYIJz4wG1Oj0DqoQjsAR5ddKZbQ', 'description': '<h2><b>Product Features</b></h2>\\r\\nAmazon Shopping offers app-only benefits to help make shopping on Amazon faster and easier than shopping on your desktop.\\r\\n\\r\\n<h2><b>Never miss a delivery</b></h2>\\r\\nGet real-time tracking and delivery notifications so you know where your package is and when it arrives. \\r\\n\\r\\n<h2><b>Know exactly what you’re purchasing</b></h2>\\r\\nFull 360° product view lets you see items from every angle. “View in you room” makes sure it fits by using your phone’s camera and VR so you can see it in your space. \\r\\n\\r\\n<h2><b>We’ll notify you when items go on sale</b></h2>\\r\\nJust tap the heart icon to save items to Your Lists and we’ll alert you of price drops so you don’t miss a deal. \\r\\n\\r\\n<h2><b>Never forget your password</b></h2>\\r\\nSave time by staying securely signed in. If you prefer to sign out, use facial or fingerprint identification to sign back in. \\r\\n\\r\\n<h2><b>Connect with us when it works best for you</b></h2>\\r\\nLive chat support is open 24 hours, 7 days a week. Once you’ve started a chat, it stays that way for 24 hours so you don’t have to start your support session from the beginning. \\r\\n\\r\\n<h2><b>We’ll find that item for you</b></h2>\\r\\nNot sure of an item’s brand or where to buy it? Just tap the scan icon in the search bar, take a picture of the item or its barcode, and we’ll find it for you.\\r\\n\\r\\n<h2><b>Product Description</b></h2>\\r\\nBrowse, search, view product details, read reviews, and purchase millions of products. We deliver to 100+ countries in as quickly as 3-5 days. Whether you’re buying gifts, reading reviews, tracking orders, scanning products, or just shopping, Amazon Shopping app offers more benefits than shopping on Amazon via your desktop.   \\r\\n\\r\\n<h2><b>Important Note Regarding Permissions</b></h2>\\r\\nPlease note that the Amazon Shopping app requires access to the following services to operate properly:\\r\\n* <b>Contacts:</b> Allows you to send Amazon gift cards to your contacts or invitation to install the Amazon app.\\r\\n* <b>Camera:</b> Allows the Amazon app to access your camera on the device. You can use your camera to find products by scanning the cover or its barcode, to add gift cards and credit cards, or to add pictures in the product reviews.\\r\\n* <b>Flashlight:</b> Allows the Amazon app to turn on the flashlight. You can use the flashlight to find products with the camera feature even in low-light or dark conditions.\\r\\n* <b>Microphone:</b> Allows the Amazon app to access your microphone to use your voice to search and interact with your Assistant.\\r\\n* <b>Location:</b> Allows the Amazon app to access your location to help you discover local offers and select addresses fast.\\r\\n* <b>Account:</b> Allows you to share products on Amazon with your friends and families through Facebook or other social networks.\\r\\n* <b>Phone:</b> Allows the Amazon app to pre-populate the Amazon Customer Service number on your phone’s keypad.\\r\\n* <b>Storage:</b> Allows the Amazon app to store your preferences so that some features can load and run faster on the device.\\r\\n* <b>Wi-Fi:</b> This permissions is used when setting up either a Dash Button or Dash Wand using the Amazon Shopping app.\\r\\n\\r\\nThe Amazon App for Tablets is available on Google Play. Search for \"Amazon Tablet\" to install the app and begin shopping.\\r\\n\\r\\nFor customers located within the European Union, United Kingdom, Brazil, or Turkey: By using this app, you agree to Amazon’s Conditions of Use applicable for your country. Please also see the applicable Privacy Notice, Cookies Notice and Interest-Based Ads Notice for your country. Links to these terms and notices can be found in the footer of your local Amazon homepage.\\r\\n\\r\\nFor all other customers: By using this app, you agree to the applicable Amazon Conditions of Use (e.g. www.amazon.com/conditionsofuse) and Privacy Notice (e.g. www.amazon.com/privacy) for your country. Links to these terms and notices can be found in the footer of your local Amazon homepage.', 'descriptionHTML': '<h2><b>Product Features</b></h2><br>Amazon Shopping offers app-only benefits to help make shopping on Amazon faster and easier than shopping on your desktop.<br><br><h2><b>Never miss a delivery</b></h2><br>Get real-time tracking and delivery notifications so you know where your package is and when it arrives. <br><br><h2><b>Know exactly what you’re purchasing</b></h2><br>Full 360° product view lets you see items from every angle. “View in you room” makes sure it fits by using your phone’s camera and VR so you can see it in your space. <br><br><h2><b>We’ll notify you when items go on sale</b></h2><br>Just tap the heart icon to save items to Your Lists and we’ll alert you of price drops so you don’t miss a deal. <br><br><h2><b>Never forget your password</b></h2><br>Save time by staying securely signed in. If you prefer to sign out, use facial or fingerprint identification to sign back in. <br><br><h2><b>Connect with us when it works best for you</b></h2><br>Live chat support is open 24 hours, 7 days a week. Once you’ve started a chat, it stays that way for 24 hours so you don’t have to start your support session from the beginning. <br><br><h2><b>We’ll find that item for you</b></h2><br>Not sure of an item’s brand or where to buy it? Just tap the scan icon in the search bar, take a picture of the item or its barcode, and we’ll find it for you.<br><br><h2><b>Product Description</b></h2><br>Browse, search, view product details, read reviews, and purchase millions of products. We deliver to 100+ countries in as quickly as 3-5 days. Whether you’re buying gifts, reading reviews, tracking orders, scanning products, or just shopping, Amazon Shopping app offers more benefits than shopping on Amazon via your desktop.   <br><br><h2><b>Important Note Regarding Permissions</b></h2><br>Please note that the Amazon Shopping app requires access to the following services to operate properly:<br>* <b>Contacts:</b> Allows you to send Amazon gift cards to your contacts or invitation to install the Amazon app.<br>* <b>Camera:</b> Allows the Amazon app to access your camera on the device. You can use your camera to find products by scanning the cover or its barcode, to add gift cards and credit cards, or to add pictures in the product reviews.<br>* <b>Flashlight:</b> Allows the Amazon app to turn on the flashlight. You can use the flashlight to find products with the camera feature even in low-light or dark conditions.<br>* <b>Microphone:</b> Allows the Amazon app to access your microphone to use your voice to search and interact with your Assistant.<br>* <b>Location:</b> Allows the Amazon app to access your location to help you discover local offers and select addresses fast.<br>* <b>Account:</b> Allows you to share products on Amazon with your friends and families through Facebook or other social networks.<br>* <b>Phone:</b> Allows the Amazon app to pre-populate the Amazon Customer Service number on your phone’s keypad.<br>* <b>Storage:</b> Allows the Amazon app to store your preferences so that some features can load and run faster on the device.<br>* <b>Wi-Fi:</b> This permissions is used when setting up either a Dash Button or Dash Wand using the Amazon Shopping app.<br><br>The Amazon App for Tablets is available on Google Play. Search for &quot;Amazon Tablet&quot; to install the app and begin shopping.<br><br>For customers located within the European Union, United Kingdom, Brazil, or Turkey: By using this app, you agree to Amazon’s Conditions of Use applicable for your country. Please also see the applicable Privacy Notice, Cookies Notice and Interest-Based Ads Notice for your country. Links to these terms and notices can be found in the footer of your local Amazon homepage.<br><br>For all other customers: By using this app, you agree to the applicable Amazon Conditions of Use (e.g. www.amazon.com/conditionsofuse) and Privacy Notice (e.g. www.amazon.com/privacy) for your country. Links to these terms and notices can be found in the footer of your local Amazon homepage.', 'developer': 'Amazon Mobile LLC', 'installs': '500,000,000+'}]\n"
     ]
    }
   ],
   "source": [
    "result = search('amazon', n_hits=1) \n",
    "\n",
    "if result:\n",
    "    print('Package Name:', result[0]['appId'])\n",
    "    print('Package Name:', result)\n",
    "else:\n",
    "    print('Aplikasi tidak ditemukan.')"
   ]
  },
  {
   "cell_type": "code",
   "execution_count": 5,
   "metadata": {},
   "outputs": [
    {
     "name": "stdout",
     "output_type": "stream",
     "text": [
      "Scraping telah selesai.\n"
     ]
    }
   ],
   "source": [
    "app_id = 'com.amazon.mShop.android.shopping'\n",
    "\n",
    "result, _ = reviews(\n",
    "    app_id,\n",
    "    lang='en',  # Bahasa Inggris\n",
    "    country='us',  # Negara USA\n",
    "    sort=Sort.NEWEST,  # urutkan berdasarkan yang terbaru\n",
    "    count=30000  # jumlah ulasan yang diambil\n",
    ")\n",
    "\n",
    "df = pd.DataFrame(result)\n",
    "print('Scraping telah selesai.')"
   ]
  },
  {
   "cell_type": "code",
   "execution_count": 9,
   "metadata": {},
   "outputs": [
    {
     "data": {
      "text/html": [
       "<div>\n",
       "<style scoped>\n",
       "    .dataframe tbody tr th:only-of-type {\n",
       "        vertical-align: middle;\n",
       "    }\n",
       "\n",
       "    .dataframe tbody tr th {\n",
       "        vertical-align: top;\n",
       "    }\n",
       "\n",
       "    .dataframe thead th {\n",
       "        text-align: right;\n",
       "    }\n",
       "</style>\n",
       "<table border=\"1\" class=\"dataframe\">\n",
       "  <thead>\n",
       "    <tr style=\"text-align: right;\">\n",
       "      <th></th>\n",
       "      <th>reviewId</th>\n",
       "      <th>userName</th>\n",
       "      <th>userImage</th>\n",
       "      <th>content</th>\n",
       "      <th>score</th>\n",
       "      <th>thumbsUpCount</th>\n",
       "      <th>reviewCreatedVersion</th>\n",
       "      <th>at</th>\n",
       "      <th>replyContent</th>\n",
       "      <th>repliedAt</th>\n",
       "      <th>appVersion</th>\n",
       "    </tr>\n",
       "  </thead>\n",
       "  <tbody>\n",
       "    <tr>\n",
       "      <th>0</th>\n",
       "      <td>d6ab5529-5862-4442-b3b3-fa1c1b0c9fa4</td>\n",
       "      <td>A Google user</td>\n",
       "      <td>https://play-lh.googleusercontent.com/EGemoI2N...</td>\n",
       "      <td>unsubscribed and uninstalled due to us tariffs</td>\n",
       "      <td>1</td>\n",
       "      <td>0</td>\n",
       "      <td>None</td>\n",
       "      <td>2025-04-02 15:31:06</td>\n",
       "      <td>None</td>\n",
       "      <td>None</td>\n",
       "      <td>None</td>\n",
       "    </tr>\n",
       "    <tr>\n",
       "      <th>1</th>\n",
       "      <td>cd7689ed-4a25-4990-8bca-b0a104ed8bd4</td>\n",
       "      <td>A Google user</td>\n",
       "      <td>https://play-lh.googleusercontent.com/EGemoI2N...</td>\n",
       "      <td>What happened to the Product Review filters? T...</td>\n",
       "      <td>1</td>\n",
       "      <td>2</td>\n",
       "      <td>30.6.0.100</td>\n",
       "      <td>2025-04-02 15:15:22</td>\n",
       "      <td>None</td>\n",
       "      <td>None</td>\n",
       "      <td>30.6.0.100</td>\n",
       "    </tr>\n",
       "    <tr>\n",
       "      <th>2</th>\n",
       "      <td>5d490635-8f57-4757-8e05-35a1c53cc886</td>\n",
       "      <td>A Google user</td>\n",
       "      <td>https://play-lh.googleusercontent.com/EGemoI2N...</td>\n",
       "      <td>pings me back amd forth between \"buy now\" and ...</td>\n",
       "      <td>1</td>\n",
       "      <td>0</td>\n",
       "      <td>30.6.0.100</td>\n",
       "      <td>2025-04-02 14:54:16</td>\n",
       "      <td>None</td>\n",
       "      <td>None</td>\n",
       "      <td>30.6.0.100</td>\n",
       "    </tr>\n",
       "    <tr>\n",
       "      <th>3</th>\n",
       "      <td>ee05ef1a-4959-4b88-a41d-34f04bbc30b5</td>\n",
       "      <td>A Google user</td>\n",
       "      <td>https://play-lh.googleusercontent.com/EGemoI2N...</td>\n",
       "      <td>too slow to boot</td>\n",
       "      <td>2</td>\n",
       "      <td>0</td>\n",
       "      <td>None</td>\n",
       "      <td>2025-04-02 14:29:49</td>\n",
       "      <td>None</td>\n",
       "      <td>None</td>\n",
       "      <td>None</td>\n",
       "    </tr>\n",
       "    <tr>\n",
       "      <th>4</th>\n",
       "      <td>3242974d-db52-4e91-92e6-d416462fefc0</td>\n",
       "      <td>A Google user</td>\n",
       "      <td>https://play-lh.googleusercontent.com/EGemoI2N...</td>\n",
       "      <td>Zero Customer Service - there is no way to spe...</td>\n",
       "      <td>1</td>\n",
       "      <td>0</td>\n",
       "      <td>None</td>\n",
       "      <td>2025-04-02 14:03:03</td>\n",
       "      <td>None</td>\n",
       "      <td>None</td>\n",
       "      <td>None</td>\n",
       "    </tr>\n",
       "  </tbody>\n",
       "</table>\n",
       "</div>"
      ],
      "text/plain": [
       "                               reviewId       userName  \\\n",
       "0  d6ab5529-5862-4442-b3b3-fa1c1b0c9fa4  A Google user   \n",
       "1  cd7689ed-4a25-4990-8bca-b0a104ed8bd4  A Google user   \n",
       "2  5d490635-8f57-4757-8e05-35a1c53cc886  A Google user   \n",
       "3  ee05ef1a-4959-4b88-a41d-34f04bbc30b5  A Google user   \n",
       "4  3242974d-db52-4e91-92e6-d416462fefc0  A Google user   \n",
       "\n",
       "                                           userImage  \\\n",
       "0  https://play-lh.googleusercontent.com/EGemoI2N...   \n",
       "1  https://play-lh.googleusercontent.com/EGemoI2N...   \n",
       "2  https://play-lh.googleusercontent.com/EGemoI2N...   \n",
       "3  https://play-lh.googleusercontent.com/EGemoI2N...   \n",
       "4  https://play-lh.googleusercontent.com/EGemoI2N...   \n",
       "\n",
       "                                             content  score  thumbsUpCount  \\\n",
       "0     unsubscribed and uninstalled due to us tariffs      1              0   \n",
       "1  What happened to the Product Review filters? T...      1              2   \n",
       "2  pings me back amd forth between \"buy now\" and ...      1              0   \n",
       "3                                   too slow to boot      2              0   \n",
       "4  Zero Customer Service - there is no way to spe...      1              0   \n",
       "\n",
       "  reviewCreatedVersion                  at replyContent repliedAt  appVersion  \n",
       "0                 None 2025-04-02 15:31:06         None      None        None  \n",
       "1           30.6.0.100 2025-04-02 15:15:22         None      None  30.6.0.100  \n",
       "2           30.6.0.100 2025-04-02 14:54:16         None      None  30.6.0.100  \n",
       "3                 None 2025-04-02 14:29:49         None      None        None  \n",
       "4                 None 2025-04-02 14:03:03         None      None        None  "
      ]
     },
     "execution_count": 9,
     "metadata": {},
     "output_type": "execute_result"
    }
   ],
   "source": [
    "df.head()"
   ]
  },
  {
   "cell_type": "code",
   "execution_count": 11,
   "metadata": {},
   "outputs": [
    {
     "name": "stdout",
     "output_type": "stream",
     "text": [
      "file berhasil tersimpan: data/amazon_reviews.csv\n"
     ]
    }
   ],
   "source": [
    "df = df[['content', 'score']]\n",
    "file_path = 'data/amazon_reviews.csv'\n",
    "df.to_csv(file_path, index=False)\n",
    "print(f'file berhasil tersimpan: {file_path}')"
   ]
  }
 ],
 "metadata": {
  "kernelspec": {
   "display_name": "venv",
   "language": "python",
   "name": "python3"
  },
  "language_info": {
   "codemirror_mode": {
    "name": "ipython",
    "version": 3
   },
   "file_extension": ".py",
   "mimetype": "text/x-python",
   "name": "python",
   "nbconvert_exporter": "python",
   "pygments_lexer": "ipython3",
   "version": "3.12.2"
  }
 },
 "nbformat": 4,
 "nbformat_minor": 2
}
